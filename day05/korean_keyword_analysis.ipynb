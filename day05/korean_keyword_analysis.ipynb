{
 "cells": [
  {
   "cell_type": "markdown",
   "metadata": {},
   "source": [
    "## 한국어 분석\n",
    "\n",
    "### 패키지 import"
   ]
  },
  {
   "cell_type": "code",
   "execution_count": 1,
   "metadata": {},
   "outputs": [],
   "source": [
    "import json\n",
    "import re\n",
    "from konlpy.tag import Okt\n",
    "from collections import Counter\n",
    "import matplotlib\n",
    "import matplotlib.pyplot as plt\n",
    "from matplotlib import font_manager,rc\n",
    "from wordcloud import WordCloud"
   ]
  },
  {
   "cell_type": "code",
   "execution_count": 22,
   "metadata": {},
   "outputs": [
    {
     "data": {
      "text/plain": [
       "[{'created_time': '2018-06-20 18:06:39',\n",
       "  'link': 'https://www.facebook.com/etnews.kr/videos/1981346601899735/',\n",
       "  'message': '6월의 스파크포럼 - \"미래 시대, 조직의 변화도 시작됐다!\"\\n\\n스파크포럼은 현 사회의 사회문제 및 이슈를 제기하고, 그 이슈를 혁신적으로 해결하고자 하는 소셜이노베이터를 발굴, 지원하여 우리 사회 따뜻한 변화를 확산시키지 위해 만들어진 도전과 만남의 자리입니다.\\n\\n6월의 스파크포럼에서는 4차 산업혁명 시대의 기업조직과 조직문화를 살펴보고, 조직의 변화를 받아들이고 실험해나가는 사례를 통해 미래 시대 조직이 나아가야 할 방향을 함께 생각해보고자 합니다.',\n",
       "  'name': '6월의 스파크포럼 - \"미래 시대, 조직의 변화도 시작됐다!\"',\n",
       "  'post_id': '407886705912407_1981346601899735',\n",
       "  'total_comments': 3},\n",
       " {'created_time': '2018-06-14 10:41:16',\n",
       "  'link': 'http://www.etnews.com/20180612000347',\n",
       "  'message': '로봇이 4차 산업혁명 주요 성장 동력으로 떠오르면서 국내 로봇 기업에 재평가가 이뤄지고 있다는 분석입니다.',\n",
       "  'name': '기술력 갖춘 로봇기업 몸값 치솟는다',\n",
       "  'post_id': '407886705912407_1971252229575839',\n",
       "  'total_comments': 0},\n",
       " {'created_time': '2018-04-10 17:42:00',\n",
       "  'link': 'http://www.etnews.com/20180409000360?mc=em_002_00001',\n",
       "  'message': '4차 산업혁명 시대 금융 산업 전반 점검해야 한다는...',\n",
       "  'name': \"휘청거리는 대한민국 '금융'...서민도 기업도 ICT도 실종\",\n",
       "  'post_id': '407886705912407_1900738133293916',\n",
       "  'total_comments': 0},\n",
       " {'created_time': '2018-03-05 12:05:00',\n",
       "  'link': 'https://goo.gl/qPEyAJ',\n",
       "  'message': \"공통 간판 공약은 '4차 산업혁명 선도 도시 구현'과 '가상화폐·블록체인 기술 활용' 등입니다. https://goo.gl/qPEyAJ\",\n",
       "  'name': \"지방선거 D-100 정책 공약 '4차산업혁명'에 초점\",\n",
       "  'post_id': '407886705912407_1859978837369846',\n",
       "  'total_comments': 0},\n",
       " {'created_time': '2018-02-05 17:20:01',\n",
       "  'link': 'http://www.etnews.com/20180205000237',\n",
       "  'message': '이번 과정은 4차 산업혁명 핵심 기술인 AI에 대한 통찰력과 알파고를 통해 우리 일상과 익숙해진 로봇, 빅데이터 산업 흐름을 알려줍니다. #인공지능 #최고위과정 #산학연최고전문가 https://goo.gl/jSZSNX',\n",
       "  'name': '[알림]제2기 인공지능 최고위 과정 모집',\n",
       "  'post_id': '407886705912407_1829059807128416',\n",
       "  'total_comments': 0},\n",
       " {'created_time': '2018-01-29 23:39:00',\n",
       "  'link': 'http://www.etnews.com/20180129000403?mc=em_003_00001',\n",
       "  'message': '4차 산업혁명 모든 기술과 서비스 구현',\n",
       "  'name': \"첫 스마트시티 '부산·세종' 낙점...규제 프리존으로\",\n",
       "  'post_id': '407886705912407_1821177084583355',\n",
       "  'total_comments': 0},\n",
       " {'created_time': '2017-11-09 18:11:43',\n",
       "  'link': 'http://www.sek.co.kr/2017/nbf',\n",
       "  'message': '산업혁명의 나라, 영국엔 4차 산업혁명이 없다?\\n한국-영국 경험과 지혜를 모으는 ‘미래비즈니스포럼 2017’ 개최',\n",
       "  'name': '미래비즈니스포럼 2017 : 손에 잡히는 4차 산업혁명',\n",
       "  'post_id': '407886705912407_1735224763178588',\n",
       "  'total_comments': 0},\n",
       " {'created_time': '2017-10-25 13:08:49',\n",
       "  'link': 'https://www.facebook.com/etnews.kr/videos/1720053844695680/',\n",
       "  'message': \"[전자신문TV 라이브] SBA 신직업위크\\n\\n4차 산업혁명 시대의 경쟁력 확보와 일자리 창출의 해법을 신직업에서 찾고 있는 서울산업진흥원(SBA)이 자신들의 역량과 노력을 모두 담은 '제 2회 신직업위크'를 진행하고 있습니다.\\n\\n이번 전자신문TV라이브는 서울 대치동 SBA 신직업교육센터에서 강만구 신직업교육팀장과 서지윤 신직업리서치팀수석, 윤석원 테스트웍스 대표 등과 함께 '제 2회 신직업위크'와 최신 신직업트렌드를 알아보는 시간으로 마련했습니다. 많은 시청 바랍니다. \\n\\n#전자신문 #전자신문엔터 #전자신문TV #라이브 #소셜방송 #현장라이브 #손보련 #신직업위크 #서울산업진흥원 #SBA #신직업 #서울 #강만구 #서지윤 #윤석원 #테스트웍스 #소프트웨어 #테스터 #소프트웨어테스터\",\n",
       "  'name': '[전자신문TV 라이브] SBA 신직업위크',\n",
       "  'post_id': '407886705912407_1720053844695680',\n",
       "  'total_comments': 0},\n",
       " {'created_time': '2017-10-06 11:50:00',\n",
       "  'link': 'http://www.etnews.com/20171005000056?mc=em_011_00001',\n",
       "  'message': '혹시 우리나라도?~~4차 산업혁명 시대 떠오르는 일자리 전략으로 강추~~',\n",
       "  'name': '日, 인공지능 활용능력 자격시험 만든다',\n",
       "  'post_id': '407886705912407_1700789646622100',\n",
       "  'total_comments': 1},\n",
       " {'created_time': '2017-09-25 15:30:00',\n",
       "  'link': 'http://www.etnews.com/20170924000106?mc=em_003_00001',\n",
       "  'message': '4차 산업혁명 대응에 가장 강점 분야는 5세대 이동통신...건강한 산업 생태계 조성 노력 강조',\n",
       "  'name': \"김상조 공정위원장 “기업집단국, 조사국과 달라…'존경받는 기업' 만드는 게 핵심”\",\n",
       "  'post_id': '407886705912407_1691461310888267',\n",
       "  'total_comments': 0},\n",
       " {'created_time': '2017-08-29 00:54:00',\n",
       "  'link': 'http://www.etnews.com/20170825000162?mc=em_009_00001',\n",
       "  'message': \"중앙부처 공무원 51.3% '4차 산업혁명 관련 가장 시급히 대응해야 할 기술적 과제'로 빅데이터 활용 꼽\",\n",
       "  'name': '현직 공무원들 \"빅데이터·AI, 정책에 적극 활용\"…4차 산업혁명 인식 높아',\n",
       "  'post_id': '407886705912407_1665258370175228',\n",
       "  'total_comments': 1},\n",
       " {'created_time': '2017-08-17 15:37:14',\n",
       "  'link': 'https://www.facebook.com/etnews.kr/videos/1655135431187522/',\n",
       "  'message': '[전자신문TV 라이브] 직격인터뷰 - 서울산업진흥원(SBA) 주형철 대표이사\\n\\n최근 각급 공공기관들이 4차 산업혁명기를 맞은 국내 중소기업의 경쟁력과 일자리 창출을 위해 노력하고 있는데요.\\n\\n이번 전자신문TV 라이브는 중소기업 활성화와 일자리 창출에 앞장서는 공공기관 중 대표적 사례로 꼽히는 서울산업진흥원 주형철 대표이사를 모시고 다양한 이야기를 듣는 시간으로 진행됩니다.\\n\\n#전자신문 #전자신문TV #서울산업진흥원 #SBA #주형철 #소성렬',\n",
       "  'name': '[전자신문TV 라이브] 직격인터뷰 - 서울산업진흥원(SBA) 주형철 대표이사',\n",
       "  'post_id': '407886705912407_1655135431187522',\n",
       "  'total_comments': 15},\n",
       " {'created_time': '2017-08-12 17:48:00',\n",
       "  'link': 'http://www.etnews.com/20170810000414?mc=em_009_00001',\n",
       "  'message': '4차 산업혁명 대응은 일자리 창출과 함께 문재인 정부 주요 국정 과제인 데도 우선순위에서 밀렸다는 지적',\n",
       "  'name': '4차 산업혁명위 출범 후순위로 밀렸다',\n",
       "  'post_id': '407886705912407_1648865381814527',\n",
       "  'total_comments': 0},\n",
       " {'created_time': '2017-06-09 22:00:00',\n",
       "  'link': 'http://www.etnews.com/20170608000300?mc=em_009_00001',\n",
       "  'message': '통합·개혁 행보에서 빠른 움직임을 보였지만 4차 산업혁명 등 신성장동력 창출에서는 한 발짝도 못 나갔다는 평입니다...',\n",
       "  'name': \"새정부 출범 한 달...'통합·개혁'엔 진일보, '4차 산업혁명 대응' 한발짝도 못 나가\",\n",
       "  'post_id': '407886705912407_1579376925430040',\n",
       "  'total_comments': 4},\n",
       " {'created_time': '2017-05-24 18:30:00',\n",
       "  'link': 'http://www.etnews.com/20170524000281?mc=em_001_00001',\n",
       "  'message': \"미래창조과학부가 주최하고 전자신문사, 한국경제신문, 한국정보통신진흥협회(KAIT) 주관으로 24일 서울 강남구 삼성동 코엑스에서 개막된 '월드IT쇼(WIS) 2017'은 4차 산업혁명이 더 이상 개념이 아니라 현실로 다가왔음을 입증했습니다~\",\n",
       "  'name': '[WIS 2017]4차 산업혁명, 현실과 마주한 날',\n",
       "  'post_id': '407886705912407_1562807837086949',\n",
       "  'total_comments': 0},\n",
       " {'created_time': '2017-05-17 18:38:04',\n",
       "  'link': 'https://www.facebook.com/etnews.kr/photos/a.409377469096664/1556319464402453/?type=3',\n",
       "  'message': '[전자신문TV 라이브 예고]\\n이번 전자신문TV는 4차 산업혁명과 과학기술 영상컨퍼런스를 생중계합니다~! 광운대학교 이승현 교수님을 모시고 진행하는 이번 행사는 VR. AR 기술과 몰힙형 미디어에 대해 설명해 주신다고 합니다!\\n\\n이번 행사는 전자신문 Entertainment와 가상현실 스튜디오 솔루션을 제작한 다림비젼, 중견기업TV와 함께  4차 산업 정보 채널 IBSB(IT Tech. & Business SNS Broadcast)를 통해 진행합니다.\\n\\nIBSB는 전세계 4차 산업 혁명의 현장의 생생한 IT 소식과 정보, 컨퍼런스의 강연, VOD정보를 VR 기술과 원격 Live방송 기술을 중심으로 시간과 거리를 초월하는 실시간 TELE-Presentation 기술의 새로운 방송 서비스입니다.\\n\\n이런 유익한 강의를 전자신문 페이스북을 통해서 시청하실 수 있습니다~ 많은 관심부탁드립니다♥',\n",
       "  'name': 'Timeline Photos',\n",
       "  'post_id': '407886705912407_1556319464402453',\n",
       "  'total_comments': 1},\n",
       " {'created_time': '2017-04-05 07:00:00',\n",
       "  'link': 'http://www.etnews.com/20170404000230',\n",
       "  'message': '대선 국면이지만 법안의 시급성 때문에 4차 산업혁명 대비 법제 개편 논의가 불붙을 전망입니다...',\n",
       "  'name': \"'4차 산업혁명 기본법' 나왔다…대선 기간 법제화 논의 불붙을듯\",\n",
       "  'post_id': '407886705912407_1505222409512159',\n",
       "  'total_comments': 1},\n",
       " {'created_time': '2017-02-14 08:30:01',\n",
       "  'link': 'http://www.etnews.com/20170213000307',\n",
       "  'message': '4차 산업혁명 시대 대비!!!',\n",
       "  'name': '[차기 정부 거버넌스 개편 방향 좌담회]\"400조 정부, 혁신부총리가 답이다\"',\n",
       "  'post_id': '407886705912407_1452393468128387',\n",
       "  'total_comments': 0},\n",
       " {'created_time': '2016-01-25 06:00:00',\n",
       "  'link': 'http://www.etnews.com/20160124000075',\n",
       "  'message': '‘#4차산업혁명 의 이해(Mastering the Fourth Industrial Revolution)’...\\n23일 폐막한 #다보스포럼 에서는  4차 산업혁명 기대와 우려가 교차했는데요. 구글, 애플, 페이스북, 삼성전자, LG전자가 앞다퉈 4차 산업혁명 흐름에 뛰어 들고 있습니다.',\n",
       "  'name': '[이슈분석]다보스포럼, 4차 산업혁명 기대와 우려 교차',\n",
       "  'post_id': '407886705912407_1106254916075579',\n",
       "  'total_comments': 0}]"
      ]
     },
     "execution_count": 22,
     "metadata": {},
     "output_type": "execute_result"
    }
   ],
   "source": [
    "# 크롤링 데이터 로드\n",
    "data = json.loads(open('./data/etnews.kr_facebook_2016-01-01_2018-08-01_4차 산업혁명.json',mode='r',encoding='utf-8').read())\n",
    "data"
   ]
  },
  {
   "cell_type": "code",
   "execution_count": 23,
   "metadata": {},
   "outputs": [
    {
     "data": {
      "text/plain": [
       "'6월의 스파크포럼    미래 시대  조직의 변화도 시작됐다    스파크포럼은 현 사회의 사회문제 및 이슈를 제기하고  그 이슈를 혁신적으로 해결하고자 하는 소셜이노베이터를 발굴  지원하여 우리 사회 따뜻한 변화를 확산시키지 위해 만들어진 도전과 만남의 자리입니다   6월의 스파크포럼에서는 4차 산업혁명 시대의 기업조직과 조직문화를 살펴보고  조직의 변화를 받아들이고 실험해나가는 사례를 통해 미래 시대 조직이 나아가야 할 방향을 함께 생각해보고자 합니다 로봇이 4차 산업혁명 주요 성장 동력으로 떠오르면서 국내 로봇 기업에 재평가가 이뤄지고 있다는 분석입니다 4차 산업혁명 시대 금융 산업 전반 점검해야 한다는   공통 간판 공약은  4차 산업혁명 선도 도시 구현 과  가상화폐 블록체인 기술 활용  등입니다  https   goo gl qPEyAJ이번 과정은 4차 산업혁명 핵심 기술인 AI에 대한 통찰력과 알파고를 통해 우리 일상과 익숙해진 로봇  빅데이터 산업 흐름을 알려줍니다   인공지능  최고위과정  산학연최고전문가 https   goo gl jSZSNX4차 산업혁명 모든 기술과 서비스 구현산업혁명의 나라  영국엔 4차 산업혁명이 없다  한국 영국 경험과 지혜를 모으는  미래비즈니스포럼 2017  개최 전자신문TV 라이브  SBA 신직업위크  4차 산업혁명 시대의 경쟁력 확보와 일자리 창출의 해법을 신직업에서 찾고 있는 서울산업진흥원 SBA 이 자신들의 역량과 노력을 모두 담은  제 2회 신직업위크 를 진행하고 있습니다   이번 전자신문TV라이브는 서울 대치동 SBA 신직업교육센터에서 강만구 신직업교육팀장과 서지윤 신직업리서치팀수석  윤석원 테스트웍스 대표 등과 함께  제 2회 신직업위크 와 최신 신직업트렌드를 알아보는 시간으로 마련했습니다  많은 시청 바랍니다     전자신문  전자신문엔터  전자신문TV  라이브  소셜방송  현장라이브  손보련  신직업위크  서울산업진흥원  SBA  신직업  서울  강만구  서지윤  윤석원  테스트웍스  소프트웨어  테스터  소프트웨어테스터혹시 우리나라도   4차 산업혁명 시대 떠오르는 일자리 전략으로 강추  4차 산업혁명 대응에 가장 강점 분야는 5세대 이동통신   건강한 산업 생태계 조성 노력 강조중앙부처 공무원 51 3   4차 산업혁명 관련 가장 시급히 대응해야 할 기술적 과제 로 빅데이터 활용 꼽 전자신문TV 라이브  직격인터뷰   서울산업진흥원 SBA  주형철 대표이사  최근 각급 공공기관들이 4차 산업혁명기를 맞은 국내 중소기업의 경쟁력과 일자리 창출을 위해 노력하고 있는데요   이번 전자신문TV 라이브는 중소기업 활성화와 일자리 창출에 앞장서는 공공기관 중 대표적 사례로 꼽히는 서울산업진흥원 주형철 대표이사를 모시고 다양한 이야기를 듣는 시간으로 진행됩니다    전자신문  전자신문TV  서울산업진흥원  SBA  주형철  소성렬4차 산업혁명 대응은 일자리 창출과 함께 문재인 정부 주요 국정 과제인 데도 우선순위에서 밀렸다는 지적통합 개혁 행보에서 빠른 움직임을 보였지만 4차 산업혁명 등 신성장동력 창출에서는 한 발짝도 못 나갔다는 평입니다   미래창조과학부가 주최하고 전자신문사  한국경제신문  한국정보통신진흥협회 KAIT  주관으로 24일 서울 강남구 삼성동 코엑스에서 개막된  월드IT쇼 WIS  2017 은 4차 산업혁명이 더 이상 개념이 아니라 현실로 다가왔음을 입증했습니다  전자신문TV 라이브 예고  이번 전자신문TV는 4차 산업혁명과 과학기술 영상컨퍼런스를 생중계합니다   광운대학교 이승현 교수님을 모시고 진행하는 이번 행사는 VR  AR 기술과 몰힙형 미디어에 대해 설명해 주신다고 합니다   이번 행사는 전자신문 Entertainment와 가상현실 스튜디오 솔루션을 제작한 다림비젼  중견기업TV와 함께  4차 산업 정보 채널 IBSB IT Tech    Business SNS Broadcast 를 통해 진행합니다   IBSB는 전세계 4차 산업 혁명의 현장의 생생한 IT 소식과 정보  컨퍼런스의 강연  VOD정보를 VR 기술과 원격 Live방송 기술을 중심으로 시간과 거리를 초월하는 실시간 TELE Presentation 기술의 새로운 방송 서비스입니다   이런 유익한 강의를 전자신문 페이스북을 통해서 시청하실 수 있습니다  많은 관심부탁드립니다 대선 국면이지만 법안의 시급성 때문에 4차 산업혁명 대비 법제 개편 논의가 불붙을 전망입니다   4차 산업혁명 시대 대비     4차산업혁명 의 이해 Mastering the Fourth Industrial Revolution      23일 폐막한  다보스포럼 에서는  4차 산업혁명 기대와 우려가 교차했는데요  구글  애플  페이스북  삼성전자  LG전자가 앞다퉈 4차 산업혁명 흐름에 뛰어 들고 있습니다 '"
      ]
     },
     "execution_count": 23,
     "metadata": {},
     "output_type": "execute_result"
    }
   ],
   "source": [
    "# data['message'] 명사 단어만 추출\n",
    "message = ''\n",
    "for item in data:\n",
    "    # if 'message' in item.keys():\n",
    "    message = message+re.sub('[^\\w]',' ',item['message'])\n",
    "\n",
    "message"
   ]
  },
  {
   "cell_type": "code",
   "execution_count": 24,
   "metadata": {},
   "outputs": [
    {
     "data": {
      "text/plain": [
       "462"
      ]
     },
     "execution_count": 24,
     "metadata": {},
     "output_type": "execute_result"
    }
   ],
   "source": [
    "# 명사만 추출\n",
    "nlp = Okt()\n",
    "message_noun = nlp.nouns(message)\n",
    "len(message_noun)"
   ]
  },
  {
   "cell_type": "markdown",
   "metadata": {},
   "source": [
    "#### 추출한 단어 검색"
   ]
  },
  {
   "cell_type": "code",
   "execution_count": 25,
   "metadata": {},
   "outputs": [
    {
     "data": {
      "text/plain": [
       "Counter({'스파크': 3,\n",
       "         '포럼': 5,\n",
       "         '미래': 3,\n",
       "         '시대': 7,\n",
       "         '조직': 4,\n",
       "         '변화': 3,\n",
       "         '시작': 1,\n",
       "         '현': 1,\n",
       "         '사회': 3,\n",
       "         '문제': 1,\n",
       "         '및': 1,\n",
       "         '이슈': 2,\n",
       "         '제기': 1,\n",
       "         '그': 1,\n",
       "         '혁신': 1,\n",
       "         '해결': 1,\n",
       "         '소셜': 2,\n",
       "         '이노': 1,\n",
       "         '베이': 1,\n",
       "         '터': 4,\n",
       "         '발굴': 1,\n",
       "         '지원': 1,\n",
       "         '우리': 2,\n",
       "         '확산': 1,\n",
       "         '위해': 2,\n",
       "         '도전': 1,\n",
       "         '만남': 1,\n",
       "         '자리': 1,\n",
       "         '차': 23,\n",
       "         '산업혁명': 22,\n",
       "         '기업': 3,\n",
       "         '직문': 1,\n",
       "         '실험': 1,\n",
       "         '사례': 2,\n",
       "         '통해': 4,\n",
       "         '방향': 1,\n",
       "         '생각': 1,\n",
       "         '로봇': 3,\n",
       "         '주요': 2,\n",
       "         '성장': 1,\n",
       "         '동력': 1,\n",
       "         '국내': 2,\n",
       "         '재': 1,\n",
       "         '평가': 1,\n",
       "         '분석': 1,\n",
       "         '금융': 1,\n",
       "         '산업': 10,\n",
       "         '전반': 1,\n",
       "         '점검': 1,\n",
       "         '공통': 1,\n",
       "         '간판': 1,\n",
       "         '공약': 1,\n",
       "         '선도': 1,\n",
       "         '도시': 1,\n",
       "         '구현': 1,\n",
       "         '과': 1,\n",
       "         '가상': 1,\n",
       "         '화폐': 1,\n",
       "         '블록': 1,\n",
       "         '체인': 1,\n",
       "         '기술': 8,\n",
       "         '활용': 2,\n",
       "         '등': 3,\n",
       "         '이번': 6,\n",
       "         '과정': 2,\n",
       "         '핵심': 1,\n",
       "         '대한': 1,\n",
       "         '통찰': 1,\n",
       "         '알파': 1,\n",
       "         '일상': 1,\n",
       "         '빅데이터': 2,\n",
       "         '흐름': 2,\n",
       "         '인공': 1,\n",
       "         '지능': 1,\n",
       "         '최고': 2,\n",
       "         '위': 5,\n",
       "         '산학': 1,\n",
       "         '전문가': 1,\n",
       "         '모든': 1,\n",
       "         '서비스': 2,\n",
       "         '나라': 1,\n",
       "         '영국': 2,\n",
       "         '한국': 2,\n",
       "         '경험': 1,\n",
       "         '지혜': 1,\n",
       "         '비즈니스': 1,\n",
       "         '개최': 1,\n",
       "         '전자신문': 13,\n",
       "         '라이브': 7,\n",
       "         '직업': 10,\n",
       "         '경쟁력': 2,\n",
       "         '확보': 1,\n",
       "         '일자리': 5,\n",
       "         '창': 5,\n",
       "         '해법': 1,\n",
       "         '진흥': 6,\n",
       "         '이': 1,\n",
       "         '자신': 1,\n",
       "         '역량': 1,\n",
       "         '노력': 3,\n",
       "         '모두': 1,\n",
       "         '제': 2,\n",
       "         '를': 2,\n",
       "         '진행': 4,\n",
       "         '서울': 3,\n",
       "         '대치동': 1,\n",
       "         '교육': 2,\n",
       "         '센터': 1,\n",
       "         '강': 2,\n",
       "         '만구': 2,\n",
       "         '팀': 2,\n",
       "         '지윤': 2,\n",
       "         '리서치': 1,\n",
       "         '수석': 1,\n",
       "         '윤석': 2,\n",
       "         '테스트': 2,\n",
       "         '웍스': 2,\n",
       "         '대표': 2,\n",
       "         '최신': 1,\n",
       "         '트렌드': 1,\n",
       "         '시간': 3,\n",
       "         '마련': 1,\n",
       "         '시청': 2,\n",
       "         '방송': 3,\n",
       "         '현장': 2,\n",
       "         '손': 1,\n",
       "         '보련': 1,\n",
       "         '소프트웨어': 2,\n",
       "         '테스': 2,\n",
       "         '혹시': 1,\n",
       "         '우리나라': 1,\n",
       "         '전략': 1,\n",
       "         '강추': 1,\n",
       "         '대응': 3,\n",
       "         '가장': 2,\n",
       "         '강점': 1,\n",
       "         '분야': 1,\n",
       "         '세대': 1,\n",
       "         '이동통신': 1,\n",
       "         '생태계': 1,\n",
       "         '조성': 1,\n",
       "         '강조': 1,\n",
       "         '중앙': 1,\n",
       "         '부처': 1,\n",
       "         '공무원': 1,\n",
       "         '관련': 1,\n",
       "         '과제': 2,\n",
       "         '로': 1,\n",
       "         '꼽': 1,\n",
       "         '직': 1,\n",
       "         '격인': 1,\n",
       "         '터뷰': 1,\n",
       "         '주형': 3,\n",
       "         '철': 3,\n",
       "         '대표이사': 2,\n",
       "         '최근': 1,\n",
       "         '급': 1,\n",
       "         '공공기관': 2,\n",
       "         '중소기업': 2,\n",
       "         '활성화': 1,\n",
       "         '중': 1,\n",
       "         '모시': 2,\n",
       "         '이야기': 1,\n",
       "         '렬': 1,\n",
       "         '문재인': 1,\n",
       "         '정부': 1,\n",
       "         '국정': 2,\n",
       "         '우선': 1,\n",
       "         '순위': 1,\n",
       "         '지적': 1,\n",
       "         '통합': 1,\n",
       "         '개혁': 1,\n",
       "         '행보': 1,\n",
       "         '움직임': 1,\n",
       "         '성장동력': 1,\n",
       "         '발짝': 1,\n",
       "         '못': 1,\n",
       "         '평': 1,\n",
       "         '미래창조과학부': 1,\n",
       "         '주최': 1,\n",
       "         '전자': 3,\n",
       "         '신문사': 1,\n",
       "         '경제': 1,\n",
       "         '신문': 1,\n",
       "         '보통신': 1,\n",
       "         '협회': 1,\n",
       "         '주관': 1,\n",
       "         '강남구': 1,\n",
       "         '삼성동': 1,\n",
       "         '코엑스': 1,\n",
       "         '개막': 1,\n",
       "         '월드': 1,\n",
       "         '쇼': 1,\n",
       "         '은': 1,\n",
       "         '더': 1,\n",
       "         '이상': 1,\n",
       "         '개념': 1,\n",
       "         '현실': 1,\n",
       "         '음': 1,\n",
       "         '입증': 1,\n",
       "         '예고': 1,\n",
       "         '과학기술': 1,\n",
       "         '영상': 1,\n",
       "         '컨퍼런스': 2,\n",
       "         '생중계': 1,\n",
       "         '광운대': 1,\n",
       "         '학교': 1,\n",
       "         '이승현': 1,\n",
       "         '교수': 1,\n",
       "         '행사': 2,\n",
       "         '몰힙형': 1,\n",
       "         '미디어': 1,\n",
       "         '대해': 1,\n",
       "         '설명': 1,\n",
       "         '가상현실': 1,\n",
       "         '스튜디오': 1,\n",
       "         '솔루션': 1,\n",
       "         '제작': 1,\n",
       "         '다림': 1,\n",
       "         '비젼': 1,\n",
       "         '중견': 1,\n",
       "         '정보': 3,\n",
       "         '채널': 1,\n",
       "         '전세계': 1,\n",
       "         '혁명': 1,\n",
       "         '소식': 1,\n",
       "         '강연': 1,\n",
       "         '원격': 1,\n",
       "         '중심': 1,\n",
       "         '거리': 1,\n",
       "         '초월': 1,\n",
       "         '실시간': 1,\n",
       "         '강의': 1,\n",
       "         '페이스북': 2,\n",
       "         '수': 1,\n",
       "         '관심': 1,\n",
       "         '대선': 1,\n",
       "         '국면': 1,\n",
       "         '법안': 1,\n",
       "         '시급': 1,\n",
       "         '때문': 1,\n",
       "         '대비': 2,\n",
       "         '법제': 1,\n",
       "         '개편': 1,\n",
       "         '논의': 1,\n",
       "         '불': 1,\n",
       "         '전망': 1,\n",
       "         '의': 1,\n",
       "         '이해': 1,\n",
       "         '폐막': 1,\n",
       "         '다보스': 1,\n",
       "         '기대': 1,\n",
       "         '우려': 1,\n",
       "         '교차': 1,\n",
       "         '구글': 1,\n",
       "         '애플': 1,\n",
       "         '삼성': 1,\n",
       "         '앞': 1})"
      ]
     },
     "execution_count": 25,
     "metadata": {},
     "output_type": "execute_result"
    }
   ],
   "source": [
    "count = Counter(message_noun)\n",
    "count"
   ]
  },
  {
   "cell_type": "code",
   "execution_count": 28,
   "metadata": {},
   "outputs": [
    {
     "name": "stdout",
     "output_type": "stream",
     "text": [
      "산업혁명 : 22\n",
      "전자신문 : 13\n",
      "산업 : 10\n",
      "직업 : 10\n",
      "기술 : 8\n",
      "시대 : 7\n",
      "라이브 : 7\n",
      "이번 : 6\n",
      "진흥 : 6\n",
      "포럼 : 5\n",
      "일자리 : 5\n",
      "조직 : 4\n",
      "통해 : 4\n",
      "진행 : 4\n",
      "스파크 : 3\n",
      "미래 : 3\n",
      "변화 : 3\n",
      "사회 : 3\n",
      "기업 : 3\n",
      "로봇 : 3\n",
      "노력 : 3\n",
      "서울 : 3\n",
      "시간 : 3\n",
      "방송 : 3\n",
      "대응 : 3\n"
     ]
    }
   ],
   "source": [
    "word_count = dict()\n",
    "\n",
    "for tag,counts in count.most_common(30):\n",
    "    if len(str(tag)) >1:\n",
    "        word_count[tag] = counts\n",
    "        print(f'{tag} : {counts}')\n"
   ]
  },
  {
   "cell_type": "code",
   "execution_count": 29,
   "metadata": {},
   "outputs": [],
   "source": [
    "# 한글 폰트\n",
    "\n",
    "font_path = \"C:/Windows/Fonts/H2GTRM.TTF\"\n",
    "font = font_manager.FontProperties(fname=font_path).get_name()\n",
    "plt.rcParams['axes.unicode_minus'] = False\n",
    "rc('font',family=font)"
   ]
  },
  {
   "cell_type": "markdown",
   "metadata": {},
   "source": [
    "#### 키워드 빈도수 차트"
   ]
  },
  {
   "cell_type": "code",
   "execution_count": 30,
   "metadata": {},
   "outputs": [
    {
     "data": {
      "image/png": "[encoded data removed]",
      "text/plain": [
       "<Figure size 864x360 with 1 Axes>"
      ]
     },
     "metadata": {
      "needs_background": "light"
     },
     "output_type": "display_data"
    }
   ],
   "source": [
    "plt.figure(figsize=(12,5))\n",
    "plt.xlabel('키워드')\n",
    "plt.ylabel('빈도수')\n",
    "plt.grid(True)\n",
    "sorted_keys = sorted(word_count,key=word_count.get,reverse=True)\n",
    "sorted_values = sorted(word_count.values(),reverse=True)\n",
    "plt.bar(range(len(word_count)),sorted_values,align='center')\n",
    "plt.xticks(range(len(word_count)),list(sorted_keys),rotation='90')\n",
    "plt.show()"
   ]
  },
  {
   "cell_type": "markdown",
   "metadata": {},
   "source": [
    "#### 한글 워드클라우드"
   ]
  },
  {
   "cell_type": "code",
   "execution_count": 31,
   "metadata": {},
   "outputs": [
    {
     "data": {
      "image/png": "[encoded data removed]",
      "text/plain": [
       "<Figure size 720x720 with 1 Axes>"
      ]
     },
     "metadata": {
      "needs_background": "light"
     },
     "output_type": "display_data"
    }
   ],
   "source": [
    "wc = WordCloud(font_path=font_path,background_color='ivory',width=1280,height=760)\n",
    "cloud = wc.generate_from_frequencies(word_count)\n",
    "plt.figure(figsize=(10,10))\n",
    "plt.imshow(cloud)\n",
    "plt.axis('off')\n",
    "plt.show()"
   ]
  },
  {
   "cell_type": "code",
   "execution_count": 32,
   "metadata": {},
   "outputs": [
    {
     "data": {
      "text/plain": [
       "<wordcloud.wordcloud.WordCloud at 0x12ad4ea93f0>"
      ]
     },
     "execution_count": 32,
     "metadata": {},
     "output_type": "execute_result"
    }
   ],
   "source": [
    "cloud.to_file('./data/facebook_etnews_wordcloud.png')"
   ]
  }
 ],
 "metadata": {
  "kernelspec": {
   "display_name": "Python 3.10.6 64-bit (windows store)",
   "language": "python",
   "name": "python3"
  },
  "language_info": {
   "codemirror_mode": {
    "name": "ipython",
    "version": 3
   },
   "file_extension": ".py",
   "mimetype": "text/x-python",
   "name": "python",
   "nbconvert_exporter": "python",
   "pygments_lexer": "ipython3",
   "version": "3.10.6"
  },
  "orig_nbformat": 4,
  "vscode": {
   "interpreter": {
    "hash": "614ab989cdc66a649d1bb5ae325f2f1314093ceadee94b2deaa33c97b811aaf8"
   }
  }
 },
 "nbformat": 4,
 "nbformat_minor": 2
}
